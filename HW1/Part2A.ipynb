{
 "cells": [
  {
   "cell_type": "markdown",
   "metadata": {},
   "source": [
    "# HW1 Part 2A"
   ]
  },
  {
   "cell_type": "markdown",
   "metadata": {},
   "source": [
    "README:\n",
    "\n",
    "Just run all the code cells. Sorry for that some codes may not fully show in the pdf due to the cell length. But you could COPY AND PASTE them somewhere to see the full codes."
   ]
  },
  {
   "cell_type": "code",
   "execution_count": 2,
   "metadata": {},
   "outputs": [],
   "source": [
    "# import necessary libraries\n",
    "library(caret) # for train, predict, etc.\n",
    "library(doParallel) # for parallel computing\n",
    "library(klaR) # for \"train\"\n",
    "library(quanteda) # for \"textmodel_nb\"\n",
    "library(OpenImageR) # for \"resizeImage\""
   ]
  },
  {
   "cell_type": "code",
   "execution_count": 3,
   "metadata": {},
   "outputs": [],
   "source": [
    "# parallel computation\n",
    "registerDoParallel(makeCluster(detectCores()))"
   ]
  },
  {
   "cell_type": "code",
   "execution_count": 4,
   "metadata": {},
   "outputs": [],
   "source": [
    "# ALL INPUT HERE\n",
    "dataTrain <- read.csv('train.csv')\n",
    "dataTest <- read.csv('test.csv', header = F)\n",
    "dataVal <- read.csv('val.csv')"
   ]
  },
  {
   "cell_type": "code",
   "execution_count": 5,
   "metadata": {},
   "outputs": [],
   "source": [
    "# spilt features and labels in training data and validation data\n",
    "train.feature <- dataTrain[,3:786]\n",
    "train.label <- as.factor(dataTrain[,2])\n",
    "val.feature <- dataVal[,2:785] \n",
    "val.label <- as.factor(dataVal[,1])"
   ]
  },
  {
   "cell_type": "markdown",
   "metadata": {},
   "source": [
    "## MODEL1: Gaussian & Untouched"
   ]
  },
  {
   "cell_type": "code",
   "execution_count": 6,
   "metadata": {},
   "outputs": [],
   "source": [
    "# model training\n",
    "model1 <- train(x = train.feature , y = train.label, method = 'naive_bayes', trControl=trainControl(method='cv', number=10))"
   ]
  },
  {
   "cell_type": "code",
   "execution_count": 7,
   "metadata": {
    "collapsed": true
   },
   "outputs": [
    {
     "data": {
      "text/plain": [
       "Confusion Matrix and Statistics\n",
       "\n",
       "          Reference\n",
       "Prediction   0   1   2   3   4   5   6   7   8   9\n",
       "         0 158   0  36  26   8  27   1   1   5   4\n",
       "         1   0 242   5  19   3   5   7   5  39   3\n",
       "         2   0   0  31   1   1   0   0   0   3   0\n",
       "         3   0   0  11  67   0   4   0   1   2   1\n",
       "         4   0   0   0   0  30   0   1   0   1   0\n",
       "         5   0   0   1   0   2  10   0   0   1   0\n",
       "         6   7   3  71  16  26  19 188   3  15   4\n",
       "         7   0   0   0   0   4   0   0  68   1   3\n",
       "         8   0   2  25  34   9  72   2   3  85   2\n",
       "         9   3   2   5  47 112  30   0 147  52 178\n",
       "\n",
       "Overall Statistics\n",
       "                                          \n",
       "               Accuracy : 0.5285          \n",
       "                 95% CI : (0.5063, 0.5506)\n",
       "    No Information Rate : 0.1245          \n",
       "    P-Value [Acc > NIR] : < 2.2e-16       \n",
       "                                          \n",
       "                  Kappa : 0.4751          \n",
       " Mcnemar's Test P-Value : NA              \n",
       "\n",
       "Statistics by Class:\n",
       "\n",
       "                     Class: 0 Class: 1 Class: 2 Class: 3 Class: 4 Class: 5\n",
       "Sensitivity            0.9405   0.9719   0.1676   0.3190   0.1538  0.05988\n",
       "Specificity            0.9410   0.9509   0.9972   0.9894   0.9989  0.99782\n",
       "Pos Pred Value         0.5940   0.7378   0.8611   0.7791   0.9375  0.71429\n",
       "Neg Pred Value         0.9942   0.9958   0.9216   0.9253   0.9162  0.92095\n",
       "Prevalence             0.0840   0.1245   0.0925   0.1050   0.0975  0.08350\n",
       "Detection Rate         0.0790   0.1210   0.0155   0.0335   0.0150  0.00500\n",
       "Detection Prevalence   0.1330   0.1640   0.0180   0.0430   0.0160  0.00700\n",
       "Balanced Accuracy      0.9408   0.9614   0.5824   0.6542   0.5764  0.52885\n",
       "                     Class: 6 Class: 7 Class: 8 Class: 9\n",
       "Sensitivity            0.9447   0.2982   0.4167   0.9128\n",
       "Specificity            0.9089   0.9955   0.9170   0.7795\n",
       "Pos Pred Value         0.5341   0.8947   0.3632   0.3090\n",
       "Neg Pred Value         0.9933   0.9168   0.9326   0.9881\n",
       "Prevalence             0.0995   0.1140   0.1020   0.0975\n",
       "Detection Rate         0.0940   0.0340   0.0425   0.0890\n",
       "Detection Prevalence   0.1760   0.0380   0.1170   0.2880\n",
       "Balanced Accuracy      0.9268   0.6469   0.6669   0.8462"
      ]
     },
     "metadata": {},
     "output_type": "display_data"
    }
   ],
   "source": [
    "# model prediction\n",
    "val.pred1 <- predict(model1, newdata = val.feature)\n",
    "confusionMatrix(data = val.pred1, val.label)"
   ]
  },
  {
   "cell_type": "markdown",
   "metadata": {},
   "source": [
    "Accuracy : 0.5285"
   ]
  },
  {
   "cell_type": "markdown",
   "metadata": {},
   "source": [
    "## MODEL2: Bernouli & Untouched"
   ]
  },
  {
   "cell_type": "code",
   "execution_count": 8,
   "metadata": {},
   "outputs": [],
   "source": [
    "# model training\n",
    "model2 <- textmodel_nb(as.dfm(train.feature), as.factor(train.label), distribution = 'Bernoulli')"
   ]
  },
  {
   "cell_type": "code",
   "execution_count": 9,
   "metadata": {
    "collapsed": true
   },
   "outputs": [
    {
     "data": {
      "text/plain": [
       "Confusion Matrix and Statistics\n",
       "\n",
       "          Reference\n",
       "Prediction   0   1   2   3   4   5   6   7   8   9\n",
       "         0 153   0   4   1   0   3   0   0   3   1\n",
       "         1   0 241   3   4   3   1   3   7   6   0\n",
       "         2   1   1 154   8   1   3   6   4   6   0\n",
       "         3   1   0   6 172   0  25   0   0  16   8\n",
       "         4   1   0   2   1 150   5   2   7   3  17\n",
       "         5   5   4   0   5   1 118   8   1   4   1\n",
       "         6   3   1   8   0   7   3 180   0   1   1\n",
       "         7   0   0   3   5   2   1   0 191   1  12\n",
       "         8   4   2   4   5   4   5   0   5 157   4\n",
       "         9   0   0   1   9  27   3   0  13   7 151\n",
       "\n",
       "Overall Statistics\n",
       "                                          \n",
       "               Accuracy : 0.8335          \n",
       "                 95% CI : (0.8164, 0.8496)\n",
       "    No Information Rate : 0.1245          \n",
       "    P-Value [Acc > NIR] : < 2.2e-16       \n",
       "                                          \n",
       "                  Kappa : 0.8146          \n",
       " Mcnemar's Test P-Value : NA              \n",
       "\n",
       "Statistics by Class:\n",
       "\n",
       "                     Class: 0 Class: 1 Class: 2 Class: 3 Class: 4 Class: 5\n",
       "Sensitivity            0.9107   0.9679   0.8324   0.8190   0.7692   0.7066\n",
       "Specificity            0.9934   0.9846   0.9835   0.9687   0.9789   0.9842\n",
       "Pos Pred Value         0.9273   0.8993   0.8370   0.7544   0.7979   0.8027\n",
       "Neg Pred Value         0.9918   0.9954   0.9829   0.9786   0.9752   0.9736\n",
       "Prevalence             0.0840   0.1245   0.0925   0.1050   0.0975   0.0835\n",
       "Detection Rate         0.0765   0.1205   0.0770   0.0860   0.0750   0.0590\n",
       "Detection Prevalence   0.0825   0.1340   0.0920   0.1140   0.0940   0.0735\n",
       "Balanced Accuracy      0.9521   0.9762   0.9080   0.8939   0.8741   0.8454\n",
       "                     Class: 6 Class: 7 Class: 8 Class: 9\n",
       "Sensitivity            0.9045   0.8377   0.7696   0.7744\n",
       "Specificity            0.9867   0.9865   0.9816   0.9668\n",
       "Pos Pred Value         0.8824   0.8884   0.8263   0.7156\n",
       "Neg Pred Value         0.9894   0.9793   0.9740   0.9754\n",
       "Prevalence             0.0995   0.1140   0.1020   0.0975\n",
       "Detection Rate         0.0900   0.0955   0.0785   0.0755\n",
       "Detection Prevalence   0.1020   0.1075   0.0950   0.1055\n",
       "Balanced Accuracy      0.9456   0.9121   0.8756   0.8706"
      ]
     },
     "metadata": {},
     "output_type": "display_data"
    }
   ],
   "source": [
    "# model prediction\n",
    "val.pred2 <- predict(model2, newdata = as.dfm(val.feature))\n",
    "confusionMatrix(data = val.pred2, val.label)"
   ]
  },
  {
   "cell_type": "markdown",
   "metadata": {},
   "source": [
    "Accuracy : 0.8335"
   ]
  },
  {
   "cell_type": "markdown",
   "metadata": {},
   "source": [
    "#### Stretched Bounding Function"
   ]
  },
  {
   "cell_type": "code",
   "execution_count": 10,
   "metadata": {},
   "outputs": [],
   "source": [
    "bounding <- function(dataIN){\n",
    "    cubic <- matrix(,nrow(dataIN),400) \n",
    "    for (i in 1:nrow(dataIN)){\n",
    "        cubic28 <- matrix(dataIN[i, ],28,28)\n",
    "        for (j in 1:28){\n",
    "            if (Reduce(\"+\",cubic28[j,])>0){\n",
    "                lowerbound <- j\n",
    "                break\n",
    "            }\n",
    "        }\n",
    "        for (j in 28:1){\n",
    "            if (Reduce(\"+\",cubic28[j,])>0){\n",
    "                upperbound <- j\n",
    "                break\n",
    "            }\n",
    "        }\n",
    "        for (j in 1:28){\n",
    "            if (Reduce(\"+\",cubic28[,j])>0){\n",
    "                leftbound <- j\n",
    "                break\n",
    "            }\n",
    "        }\n",
    "        for (j in 28:1){\n",
    "            if (Reduce(\"+\",cubic28[,j])>0){\n",
    "                rightbound <- j\n",
    "                break\n",
    "            }\n",
    "        }\n",
    "        cubic20 <- cubic28[lowerbound:upperbound, leftbound:rightbound]\n",
    "        cubic20 <- apply(resizeImage(as.matrix.data.frame(cubic20), 20, 20, method = \"bilinear\"), 1, function(x)x*255)\n",
    "        cubic[i, ] <- cubic20\n",
    "    }\n",
    "    return (cubic)\n",
    "}"
   ]
  },
  {
   "cell_type": "markdown",
   "metadata": {},
   "source": [
    "## MODEL3: Gaussian & Stretched Bounding"
   ]
  },
  {
   "cell_type": "code",
   "execution_count": 11,
   "metadata": {},
   "outputs": [],
   "source": [
    "# data reprocessing\n",
    "train.cubic = bounding(train.feature)\n",
    "val.cubic = bounding(val.feature)\n",
    "colnames(train.cubic) <- colnames(train.feature)[1:400]\n",
    "colnames(val.cubic) <- colnames(train.feature)[1:400]"
   ]
  },
  {
   "cell_type": "code",
   "execution_count": 12,
   "metadata": {},
   "outputs": [],
   "source": [
    "# model training\n",
    "model3 <- train(x = train.cubic, y = train.label, method = 'naive_bayes', trControl=trainControl(method='cv', number=10))"
   ]
  },
  {
   "cell_type": "code",
   "execution_count": 13,
   "metadata": {
    "collapsed": true
   },
   "outputs": [
    {
     "data": {
      "text/plain": [
       "Confusion Matrix and Statistics\n",
       "\n",
       "          Reference\n",
       "Prediction   0   1   2   3   4   5   6   7   8   9\n",
       "         0 149   0   2   3   0   1   0   0   1   0\n",
       "         1   0 199   4   2   2   2   5  11  12   3\n",
       "         2   4  12 157   1   0   1   1   9   8   1\n",
       "         3   0   2   1 174   0   4   0   3   2   4\n",
       "         4   3  10   2   0 165   3   9   6   4   9\n",
       "         5   0   2   1   7   2 141   4   1   5   1\n",
       "         6   6   0   3   0   8   4 179   0   0   1\n",
       "         7   0  18   6   6   0   1   0 177   1   2\n",
       "         8   6   2   7   9   5   5   1   9 144  10\n",
       "         9   0   4   2   8  13   5   0  12  27 164\n",
       "\n",
       "Overall Statistics\n",
       "                                          \n",
       "               Accuracy : 0.8245          \n",
       "                 95% CI : (0.8071, 0.8409)\n",
       "    No Information Rate : 0.1245          \n",
       "    P-Value [Acc > NIR] : < 2.2e-16       \n",
       "                                          \n",
       "                  Kappa : 0.8047          \n",
       " Mcnemar's Test P-Value : NA              \n",
       "\n",
       "Statistics by Class:\n",
       "\n",
       "                     Class: 0 Class: 1 Class: 2 Class: 3 Class: 4 Class: 5\n",
       "Sensitivity            0.8869   0.7992   0.8486   0.8286   0.8462   0.8443\n",
       "Specificity            0.9962   0.9766   0.9796   0.9911   0.9745   0.9875\n",
       "Pos Pred Value         0.9551   0.8292   0.8093   0.9158   0.7820   0.8598\n",
       "Neg Pred Value         0.9897   0.9716   0.9845   0.9801   0.9832   0.9858\n",
       "Prevalence             0.0840   0.1245   0.0925   0.1050   0.0975   0.0835\n",
       "Detection Rate         0.0745   0.0995   0.0785   0.0870   0.0825   0.0705\n",
       "Detection Prevalence   0.0780   0.1200   0.0970   0.0950   0.1055   0.0820\n",
       "Balanced Accuracy      0.9415   0.8879   0.9141   0.9098   0.9103   0.9159\n",
       "                     Class: 6 Class: 7 Class: 8 Class: 9\n",
       "Sensitivity            0.8995   0.7763   0.7059   0.8410\n",
       "Specificity            0.9878   0.9808   0.9699   0.9607\n",
       "Pos Pred Value         0.8905   0.8389   0.7273   0.6979\n",
       "Neg Pred Value         0.9889   0.9715   0.9667   0.9824\n",
       "Prevalence             0.0995   0.1140   0.1020   0.0975\n",
       "Detection Rate         0.0895   0.0885   0.0720   0.0820\n",
       "Detection Prevalence   0.1005   0.1055   0.0990   0.1175\n",
       "Balanced Accuracy      0.9436   0.8786   0.8379   0.9008"
      ]
     },
     "metadata": {},
     "output_type": "display_data"
    }
   ],
   "source": [
    "# model prediction\n",
    "val.pred3 <- predict(model3, newdata = val.cubic)\n",
    "confusionMatrix(data = val.pred3, val.label)"
   ]
  },
  {
   "cell_type": "markdown",
   "metadata": {},
   "source": [
    "Accuracy : 0.8245  "
   ]
  },
  {
   "cell_type": "markdown",
   "metadata": {},
   "source": [
    "## MODEL4: Bernouli & Stretched Bounding"
   ]
  },
  {
   "cell_type": "code",
   "execution_count": 14,
   "metadata": {},
   "outputs": [],
   "source": [
    "# model training\n",
    "model4 <- textmodel_nb(as.dfm(train.cubic), as.factor(train.label), distribution = 'Bernoulli')"
   ]
  },
  {
   "cell_type": "code",
   "execution_count": 15,
   "metadata": {
    "collapsed": true
   },
   "outputs": [
    {
     "data": {
      "text/plain": [
       "Confusion Matrix and Statistics\n",
       "\n",
       "          Reference\n",
       "Prediction   0   1   2   3   4   5   6   7   8   9\n",
       "         0 152   0   4   1   0   0   1   0   2   0\n",
       "         1   6 172   4   4   5   9  17  21  35   7\n",
       "         2   1   5 154   1   0   3   4   3   1   0\n",
       "         3   1   6   1 185   0  29   0   0   5   4\n",
       "         4   0   5   0   0 163   2   3   6   4  12\n",
       "         5   1   4   1   2   1 115  10   3   7   2\n",
       "         6   6   1   4   0   6   7 164   0   2   1\n",
       "         7   0   9  10   7   1   0   0 167   1   9\n",
       "         8   0  35   5   6   5   1   0  12 124  13\n",
       "         9   1  12   2   4  14   1   0  16  23 147\n",
       "\n",
       "Overall Statistics\n",
       "                                          \n",
       "               Accuracy : 0.7715          \n",
       "                 95% CI : (0.7525, 0.7897)\n",
       "    No Information Rate : 0.1245          \n",
       "    P-Value [Acc > NIR] : < 2.2e-16       \n",
       "                                          \n",
       "                  Kappa : 0.7456          \n",
       " Mcnemar's Test P-Value : NA              \n",
       "\n",
       "Statistics by Class:\n",
       "\n",
       "                     Class: 0 Class: 1 Class: 2 Class: 3 Class: 4 Class: 5\n",
       "Sensitivity            0.9048   0.6908   0.8324   0.8810   0.8359   0.6886\n",
       "Specificity            0.9956   0.9383   0.9901   0.9743   0.9823   0.9831\n",
       "Pos Pred Value         0.9500   0.6143   0.8953   0.8009   0.8359   0.7877\n",
       "Neg Pred Value         0.9913   0.9552   0.9830   0.9859   0.9823   0.9720\n",
       "Prevalence             0.0840   0.1245   0.0925   0.1050   0.0975   0.0835\n",
       "Detection Rate         0.0760   0.0860   0.0770   0.0925   0.0815   0.0575\n",
       "Detection Prevalence   0.0800   0.1400   0.0860   0.1155   0.0975   0.0730\n",
       "Balanced Accuracy      0.9502   0.8145   0.9113   0.9276   0.9091   0.8359\n",
       "                     Class: 6 Class: 7 Class: 8 Class: 9\n",
       "Sensitivity            0.8241   0.7325   0.6078   0.7538\n",
       "Specificity            0.9850   0.9791   0.9571   0.9596\n",
       "Pos Pred Value         0.8586   0.8186   0.6169   0.6682\n",
       "Neg Pred Value         0.9807   0.9660   0.9555   0.9730\n",
       "Prevalence             0.0995   0.1140   0.1020   0.0975\n",
       "Detection Rate         0.0820   0.0835   0.0620   0.0735\n",
       "Detection Prevalence   0.0955   0.1020   0.1005   0.1100\n",
       "Balanced Accuracy      0.9046   0.8558   0.7825   0.8567"
      ]
     },
     "metadata": {},
     "output_type": "display_data"
    }
   ],
   "source": [
    "# model prediction\n",
    "val.pred4 <- predict(model4, newdata = as.dfm(val.cubic))\n",
    "confusionMatrix(data = val.pred4, val.label)"
   ]
  },
  {
   "cell_type": "markdown",
   "metadata": {},
   "source": [
    "Accuracy : 0.7715"
   ]
  },
  {
   "cell_type": "markdown",
   "metadata": {},
   "source": [
    "## Test Four Models & Print 40 Images"
   ]
  },
  {
   "cell_type": "markdown",
   "metadata": {},
   "source": [
    "Predict based on two untouched models"
   ]
  },
  {
   "cell_type": "code",
   "execution_count": 16,
   "metadata": {},
   "outputs": [],
   "source": [
    "colnames(dataTest) <- colnames(val.feature) # change Vi to Xi in column names\n",
    "\n",
    "test.pred1 = predict(model1, newdata = dataTest)\n",
    "output = data.frame(ImageId = as.matrix(0:19999)[,1], Label = as.integer(as.matrix(test.pred1)))\n",
    "write.csv(output, file = \"chaox2_1.csv\", row.names = F)\n",
    "\n",
    "test.pred2 = predict(model2, newdata = dataTest)\n",
    "output = data.frame(ImageId = as.matrix(0:19999)[,1], Label = as.integer(as.matrix(test.pred2)))\n",
    "write.csv(output, file = \"chaox2_3.csv\", row.names = F)"
   ]
  },
  {
   "cell_type": "markdown",
   "metadata": {},
   "source": [
    "Predict based on two stretched bounding models"
   ]
  },
  {
   "cell_type": "code",
   "execution_count": 17,
   "metadata": {},
   "outputs": [],
   "source": [
    "test.cubic = bounding(dataTest)\n",
    "colnames(test.cubic) <- colnames(val.feature)[1:400]\n",
    "\n",
    "test.pred3 = predict(model3, newdata = test.cubic)\n",
    "output = data.frame(ImageId = as.matrix(0:19999)[,1], Label = as.integer(as.matrix(test.pred3)))\n",
    "write.csv(output, file = \"chaox2_2.csv\", row.names = F)\n",
    "\n",
    "test.pred4 = predict(model4, newdata = test.cubic)\n",
    "output = data.frame(ImageId = as.matrix(0:19999)[,1], Label = as.integer(as.matrix(test.pred4)))\n",
    "write.csv(output, file = \"chaox2_4.csv\", row.names = F)"
   ]
  },
  {
   "cell_type": "markdown",
   "metadata": {},
   "source": [
    "print 40 images"
   ]
  },
  {
   "cell_type": "code",
   "execution_count": 19,
   "metadata": {},
   "outputs": [],
   "source": [
    "for (i in 0:9){\n",
    "    rows = dataTest[test.pred1 == i, ]\n",
    "    png(filename=paste(c(\"Model1\",i,\".png\"), collapse=\"_\"))\n",
    "    image(matrix(sapply(rows, mean),28,28)[ ,28:1], axes = F, col = gray((0:32)/32))\n",
    "    dev.off()\n",
    "}\n",
    "for (i in 0:9){\n",
    "    rows = dataTest[test.pred2 == i, ]\n",
    "    png(filename=paste(c(\"Model3\",i,\".png\"), collapse=\"_\"))\n",
    "    image(matrix(sapply(rows, mean),28,28)[ ,28:1], axes = F, col = gray((0:32)/32))\n",
    "    dev.off()\n",
    "}\n",
    "for (i in 0:9){\n",
    "    rows = dataTest[test.pred3 == i, ]\n",
    "    png(filename=paste(c(\"Model2\",i,\".png\"), collapse=\"_\"))\n",
    "    image(matrix(sapply(rows, mean),28,28)[ ,28:1], axes = F, col = gray((0:32)/32))\n",
    "    dev.off()\n",
    "}\n",
    "for (i in 0:9){\n",
    "    rows = dataTest[test.pred4 == i, ]\n",
    "    png(filename=paste(c(\"Model4\",i,\".png\"), collapse=\"_\"))\n",
    "    image(matrix(sapply(rows, mean),28,28)[ ,28:1], axes = F, col = gray((0:32)/32))\n",
    "    dev.off()\n",
    "}"
   ]
  }
 ],
 "metadata": {
  "kernelspec": {
   "display_name": "R",
   "language": "R",
   "name": "ir"
  },
  "language_info": {
   "codemirror_mode": "r",
   "file_extension": ".r",
   "mimetype": "text/x-r-source",
   "name": "R",
   "pygments_lexer": "r",
   "version": "3.5.1"
  }
 },
 "nbformat": 4,
 "nbformat_minor": 2
}
