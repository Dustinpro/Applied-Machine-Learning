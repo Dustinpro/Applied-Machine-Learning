{
 "cells": [
  {
   "cell_type": "markdown",
   "metadata": {},
   "source": [
    "# HW1 Part 2B"
   ]
  },
  {
   "cell_type": "markdown",
   "metadata": {},
   "source": [
    "README:\n",
    "\n",
    "Just run all the code cells. Sorry for that some codes may not fully show in the pdf due to the cell length. But you could COPY AND PASTE them somewhere to see the full codes."
   ]
  },
  {
   "cell_type": "code",
   "execution_count": 1,
   "metadata": {
    "collapsed": true
   },
   "outputs": [
    {
     "name": "stderr",
     "output_type": "stream",
     "text": [
      "Loading required package: lattice\n",
      "Loading required package: ggplot2\n",
      "Loading required package: foreach\n",
      "Loading required package: iterators\n",
      "Loading required package: parallel\n",
      "Loading required package: MASS\n",
      "Package version: 1.3.4\n",
      "Parallel computing: 2 of 8 threads used.\n",
      "See https://quanteda.io for tutorials and examples.\n",
      "\n",
      "Attaching package: ‘quanteda’\n",
      "\n",
      "The following object is masked from ‘jupyter:irkernel’:\n",
      "\n",
      "    View\n",
      "\n",
      "The following object is masked from ‘package:utils’:\n",
      "\n",
      "    View\n",
      "\n",
      "\n",
      "----------------------------------------------------------------------\n",
      "\n",
      "Your next step is to start H2O:\n",
      "    > h2o.init()\n",
      "\n",
      "For H2O package documentation, ask for help:\n",
      "    > ??h2o\n",
      "\n",
      "After starting H2O, you can use the Web UI at http://localhost:54321\n",
      "For more information visit http://docs.h2o.ai\n",
      "\n",
      "----------------------------------------------------------------------\n",
      "\n",
      "\n",
      "Attaching package: ‘h2o’\n",
      "\n",
      "The following objects are masked from ‘package:stats’:\n",
      "\n",
      "    cor, sd, var\n",
      "\n",
      "The following objects are masked from ‘package:base’:\n",
      "\n",
      "    %*%, %in%, &&, apply, as.factor, as.numeric, colnames, colnames<-,\n",
      "    ifelse, is.character, is.factor, is.numeric, log, log10, log1p,\n",
      "    log2, round, signif, trunc, ||\n",
      "\n"
     ]
    }
   ],
   "source": [
    "# import necessary libraries\n",
    "library(caret) # for train, predict, etc.\n",
    "library(doParallel) # for parallel computing\n",
    "library(klaR) # for \"train\"\n",
    "library(quanteda) # for \"textmodel_nb\"\n",
    "library(OpenImageR) # for \"resizeImage\"\n",
    "library(h2o) # for \"randomforest\""
   ]
  },
  {
   "cell_type": "code",
   "execution_count": 2,
   "metadata": {},
   "outputs": [],
   "source": [
    "# parallel computation\n",
    "registerDoParallel(makeCluster(detectCores()))"
   ]
  },
  {
   "cell_type": "code",
   "execution_count": 3,
   "metadata": {},
   "outputs": [],
   "source": [
    "# ALL INPUT HERE\n",
    "dataTrain <- read.csv('train.csv')\n",
    "dataTest <- read.csv('test.csv', header = F)\n",
    "dataVal <- read.csv('val.csv')"
   ]
  },
  {
   "cell_type": "code",
   "execution_count": 4,
   "metadata": {},
   "outputs": [],
   "source": [
    "# spilt features and labels in training data and validation data\n",
    "train.feature <- dataTrain[,3:786]\n",
    "train.label <- as.factor(dataTrain[,2])\n",
    "val.feature <- dataVal[,2:785] \n",
    "val.label <- as.factor(dataVal[,1])"
   ]
  },
  {
   "cell_type": "markdown",
   "metadata": {},
   "source": [
    "#### Stretched Bounding Function"
   ]
  },
  {
   "cell_type": "code",
   "execution_count": 5,
   "metadata": {},
   "outputs": [],
   "source": [
    "bounding <- function(dataIN){\n",
    "    cubic <- matrix(,nrow(dataIN),400) \n",
    "    for (i in 1:nrow(dataIN)){\n",
    "        cubic28 <- matrix(dataIN[i, ],28,28)\n",
    "        for (j in 1:28){\n",
    "            if (Reduce(\"+\",cubic28[j,])>0){\n",
    "                lowerbound <- j\n",
    "                break\n",
    "            }\n",
    "        }\n",
    "        for (j in 28:1){\n",
    "            if (Reduce(\"+\",cubic28[j,])>0){\n",
    "                upperbound <- j\n",
    "                break\n",
    "            }\n",
    "        }\n",
    "        for (j in 1:28){\n",
    "            if (Reduce(\"+\",cubic28[,j])>0){\n",
    "                leftbound <- j\n",
    "                break\n",
    "            }\n",
    "        }\n",
    "        for (j in 28:1){\n",
    "            if (Reduce(\"+\",cubic28[,j])>0){\n",
    "                rightbound <- j\n",
    "                break\n",
    "            }\n",
    "        }\n",
    "        cubic20 <- cubic28[lowerbound:upperbound, leftbound:rightbound]\n",
    "        cubic20 <- apply(resizeImage(as.matrix.data.frame(cubic20), 20, 20, method = \"bilinear\"), 1, function(x)x*255)\n",
    "        cubic[i, ] <- cubic20\n",
    "    }\n",
    "    return (cubic)\n",
    "}"
   ]
  },
  {
   "cell_type": "markdown",
   "metadata": {},
   "source": [
    "## Random Forest Model"
   ]
  },
  {
   "cell_type": "code",
   "execution_count": 6,
   "metadata": {
    "collapsed": true
   },
   "outputs": [
    {
     "name": "stdout",
     "output_type": "stream",
     "text": [
      "\n",
      "H2O is not running yet, starting it now...\n",
      "\n",
      "Note:  In case of errors look at the following log files:\n",
      "    /var/folders/zp/dfyztm4x1wlf6712j939s4qc0000gn/T//RtmpO10u1Y/h2o_dustin_started_from_r.out\n",
      "    /var/folders/zp/dfyztm4x1wlf6712j939s4qc0000gn/T//RtmpO10u1Y/h2o_dustin_started_from_r.err\n",
      "\n",
      "\n",
      "Starting H2O JVM and connecting: .. Connection successful!\n",
      "\n",
      "R is connected to the H2O cluster: \n",
      "    H2O cluster uptime:         3 seconds 392 milliseconds \n",
      "    H2O cluster timezone:       America/Chicago \n",
      "    H2O data parsing timezone:  UTC \n",
      "    H2O cluster version:        3.20.0.2 \n",
      "    H2O cluster version age:    2 months and 26 days  \n",
      "    H2O cluster name:           H2O_started_from_R_dustin_xsr118 \n",
      "    H2O cluster total nodes:    1 \n",
      "    H2O cluster total memory:   4.00 GB \n",
      "    H2O cluster total cores:    8 \n",
      "    H2O cluster allowed cores:  8 \n",
      "    H2O cluster healthy:        TRUE \n",
      "    H2O Connection ip:          localhost \n",
      "    H2O Connection port:        54321 \n",
      "    H2O Connection proxy:       NA \n",
      "    H2O Internal Security:      FALSE \n",
      "    H2O API Extensions:         XGBoost, Algos, AutoML, Core V3, Core V4 \n",
      "    R Version:                  R version 3.5.1 (2018-07-02) \n",
      "\n"
     ]
    }
   ],
   "source": [
    "h2o.init()"
   ]
  },
  {
   "cell_type": "code",
   "execution_count": 7,
   "metadata": {},
   "outputs": [],
   "source": [
    "# random forest model function\n",
    "RF = function(train, val, ntrees, depth, output){\n",
    "    model = h2o.randomForest(y = \"label\", training_frame = as.h2o(train), validation_frame = as.h2o(val), ignore_const_cols = F, ntrees = ntrees, max_depth = depth, score_each_iteration = T) \n",
    "    if (output){\n",
    "        print(h2o.hit_ratio_table(model, valid = T)[1,2])\n",
    "    }\n",
    "    return (model)\n",
    "}"
   ]
  },
  {
   "cell_type": "markdown",
   "metadata": {},
   "source": [
    "Untouched RF Models"
   ]
  },
  {
   "cell_type": "code",
   "execution_count": 8,
   "metadata": {},
   "outputs": [],
   "source": [
    "# frame 1 & 2 are dataframes for untouched cases\n",
    "frame1 = dataTrain[,2:786]\n",
    "frame1$label <- as.factor(frame1$label)\n",
    "frame2 = dataVal\n",
    "frame2$label <- as.factor(frame2$label)"
   ]
  },
  {
   "cell_type": "code",
   "execution_count": 9,
   "metadata": {},
   "outputs": [
    {
     "name": "stdout",
     "output_type": "stream",
     "text": [
      "  |======================================================================| 100%\n",
      "  |======================================================================| 100%\n",
      "  |======================================================================| 100%\n",
      "[1] 0.869\n",
      "  |======================================================================| 100%\n",
      "  |======================================================================| 100%\n",
      "  |======================================================================| 100%\n",
      "[1] 0.8745\n",
      "  |======================================================================| 100%\n",
      "  |======================================================================| 100%\n",
      "  |======================================================================| 100%\n",
      "[1] 0.975\n",
      "  |======================================================================| 100%\n",
      "  |======================================================================| 100%\n",
      "  |======================================================================| 100%\n",
      "[1] 0.9785\n"
     ]
    }
   ],
   "source": [
    "model5 = RF(frame1, frame2, 10, 4, T);\n",
    "model7 = RF(frame1, frame2, 30, 4, T);\n",
    "model9 = RF(frame1, frame2, 10, 16, T);\n",
    "model11 = RF(frame1, frame2, 30, 16, T);"
   ]
  },
  {
   "cell_type": "markdown",
   "metadata": {},
   "source": [
    "Stretched Bounding RF Models"
   ]
  },
  {
   "cell_type": "code",
   "execution_count": 10,
   "metadata": {},
   "outputs": [
    {
     "name": "stdout",
     "output_type": "stream",
     "text": [
      "  |======================================================================| 100%\n",
      "  |======================================================================| 100%\n"
     ]
    }
   ],
   "source": [
    "# frame 3 & 4 are dataframes for stretched bounding cases\n",
    "frame3 <- as.h2o(list(frame1[,1], bounding(dataTrain[ ,3:786])))\n",
    "frame4 <- as.h2o(list(frame2[,1], bounding(dataVal[ ,2:785])))\n",
    "names(frame3)[1] = c(\"label\")\n",
    "names(frame4)[1] = c(\"label\")"
   ]
  },
  {
   "cell_type": "code",
   "execution_count": 11,
   "metadata": {},
   "outputs": [
    {
     "name": "stdout",
     "output_type": "stream",
     "text": [
      "  |======================================================================| 100%\n",
      "[1] 0.847\n",
      "  |======================================================================| 100%\n",
      "[1] 0.86\n",
      "  |======================================================================| 100%\n",
      "[1] 0.9735\n",
      "  |======================================================================| 100%\n",
      "[1] 0.981\n"
     ]
    }
   ],
   "source": [
    "model6 = RF(frame3, frame4, 10, 4, T);\n",
    "model8 = RF(frame3, frame4, 30, 4, T);\n",
    "model10 = RF(frame3, frame4, 10, 16, T);\n",
    "model12 = RF(frame3, frame4, 30, 16, T);"
   ]
  },
  {
   "cell_type": "markdown",
   "metadata": {},
   "source": [
    "### Use RF Model to Predict"
   ]
  },
  {
   "cell_type": "code",
   "execution_count": 12,
   "metadata": {},
   "outputs": [
    {
     "name": "stdout",
     "output_type": "stream",
     "text": [
      "  |======================================================================| 100%\n"
     ]
    }
   ],
   "source": [
    "colnames(dataTest) <- colnames(val.feature) # change Vi to Xi in column names\n",
    "frameTest1 <- as.h2o(list(frame2[,1], dataTest))\n",
    "names(frameTest1)[1] = c(\"label\")"
   ]
  },
  {
   "cell_type": "code",
   "execution_count": 13,
   "metadata": {},
   "outputs": [
    {
     "name": "stdout",
     "output_type": "stream",
     "text": [
      "  |======================================================================| 100%\n",
      "  |======================================================================| 100%\n",
      "  |======================================================================| 100%\n",
      "  |======================================================================| 100%\n"
     ]
    }
   ],
   "source": [
    "test.pred5 = h2o.predict(model5, as.h2o(frameTest1))\n",
    "output = data.frame(ImageId = as.matrix(0:19999)[,1], Label = as.integer(as.matrix(test.pred5)[,1]))\n",
    "write.csv(output, file = \"chaox2_5.csv\", row.names = F)\n",
    "\n",
    "test.pred7 = h2o.predict(model7, as.h2o(frameTest1))\n",
    "output = data.frame(ImageId = as.matrix(0:19999)[,1], Label = as.integer(as.matrix(test.pred7)[,1]))\n",
    "write.csv(output, file = \"chaox2_7.csv\", row.names = F)\n",
    "\n",
    "test.pred9 = h2o.predict(model9, as.h2o(frameTest1))\n",
    "output = data.frame(ImageId = as.matrix(0:19999)[,1], Label = as.integer(as.matrix(test.pred9)[,1]))\n",
    "write.csv(output, file = \"chaox2_9.csv\", row.names = F)\n",
    "\n",
    "test.pred11 = h2o.predict(model11, as.h2o(frameTest1))\n",
    "output = data.frame(ImageId = as.matrix(0:19999)[,1], Label = as.integer(as.matrix(test.pred11)[,1]))\n",
    "write.csv(output, file = \"chaox2_11.csv\", row.names = F)"
   ]
  },
  {
   "cell_type": "code",
   "execution_count": 14,
   "metadata": {},
   "outputs": [
    {
     "name": "stdout",
     "output_type": "stream",
     "text": [
      "  |======================================================================| 100%\n"
     ]
    }
   ],
   "source": [
    "frameTest2 <- as.h2o(list(frame2[,1], bounding(dataTest)))\n",
    "names(frameTest2)[1] = c(\"label\")"
   ]
  },
  {
   "cell_type": "code",
   "execution_count": 20,
   "metadata": {},
   "outputs": [
    {
     "name": "stdout",
     "output_type": "stream",
     "text": [
      "  |======================================================================| 100%\n",
      "  |======================================================================| 100%\n",
      "  |======================================================================| 100%\n",
      "  |======================================================================| 100%\n"
     ]
    }
   ],
   "source": [
    "test.pred6 = h2o.predict(model6, as.h2o(frameTest2))\n",
    "output = data.frame(ImageId = as.matrix(0:19999)[,1], Label = as.integer(as.matrix(test.pred6)[,1]))\n",
    "write.csv(output, file = \"chaox2_6.csv\", row.names = F)\n",
    "\n",
    "test.pred8 = h2o.predict(model8, as.h2o(frameTest2))\n",
    "output = data.frame(ImageId = as.matrix(0:19999)[,1], Label = as.integer(as.matrix(test.pred8)[,1]))\n",
    "write.csv(output, file = \"chaox2_8.csv\", row.names = F)\n",
    "\n",
    "test.pred10 = h2o.predict(model10, as.h2o(frameTest2))\n",
    "output = data.frame(ImageId = as.matrix(0:19999)[,1], Label = as.integer(as.matrix(test.pred10)[,1]))\n",
    "write.csv(output, file = \"chaox2_10.csv\", row.names = F)\n",
    "\n",
    "test.pred12 = h2o.predict(model12, as.h2o(frameTest2))\n",
    "output = data.frame(ImageId = as.matrix(0:19999)[,1], Label = as.integer(as.matrix(test.pred12)[,1]))\n",
    "write.csv(output, file = \"chaox2_12.csv\", row.names = F)"
   ]
  }
 ],
 "metadata": {
  "kernelspec": {
   "display_name": "R",
   "language": "R",
   "name": "ir"
  },
  "language_info": {
   "codemirror_mode": "r",
   "file_extension": ".r",
   "mimetype": "text/x-r-source",
   "name": "R",
   "pygments_lexer": "r",
   "version": "3.5.1"
  }
 },
 "nbformat": 4,
 "nbformat_minor": 2
}
