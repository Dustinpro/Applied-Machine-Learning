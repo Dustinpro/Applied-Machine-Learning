{
 "cells": [
  {
   "cell_type": "markdown",
   "metadata": {},
   "source": [
    "# CS498 AML HW8 - EM Algorithm"
   ]
  },
  {
   "cell_type": "code",
   "execution_count": null,
   "metadata": {},
   "outputs": [],
   "source": [
    "# import necessary libraries\n",
    "# readJPEG(), writeJPEG()\n",
    "library(jpeg)\n",
    "# Reshape()\n",
    "library(pracma)\n",
    "# registerDoParallel()\n",
    "library(doParallel)\n",
    "# accelerate using parallel computing\n",
    "registerDoParallel(makeCluster(detectCores()))"
   ]
  },
  {
   "cell_type": "markdown",
   "metadata": {},
   "source": [
    "## Setting Parameters"
   ]
  },
  {
   "cell_type": "code",
   "execution_count": null,
   "metadata": {},
   "outputs": [],
   "source": [
    "# variable used to choose image and number of clusters\n",
    "Image_choose = 4\n",
    "NCluster_choose = 2"
   ]
  },
  {
   "cell_type": "markdown",
   "metadata": {},
   "source": [
    "## Read data"
   ]
  },
  {
   "cell_type": "code",
   "execution_count": null,
   "metadata": {},
   "outputs": [],
   "source": [
    "# INPUT: read blog data (train & test)\n",
    "ImageStrings = c(\"RobertMixed03.jpg\",\"smallstrelitzia.jpg\",\"smallsunset.jpg\", \"tree.jpg\")\n",
    "NCluster = c(10, 20, 50)\n",
    "# Note: double-type (original RGB value divided by 255)\n",
    "Image = readJPEG(ImageStrings[Image_choose])\n",
    "# A 3d 480*640*3 matrix (Row*Col*R/G/B)\n",
    "# out: 480, 640, 3\n",
    "Dim1 = dim(Image)\n",
    "# A 2d (480*640)*3 matrix ((Row*Col)*R/G/B)\n",
    "FlatImage = Reshape(Image,Dim1[1]*Dim1[2],Dim1[3])"
   ]
  },
  {
   "cell_type": "markdown",
   "metadata": {},
   "source": [
    "## EM Initialization"
   ]
  },
  {
   "cell_type": "code",
   "execution_count": null,
   "metadata": {
    "scrolled": true
   },
   "outputs": [],
   "source": [
    "# there're NPixel (480*640) pixels\n",
    "# choose t (NCluster: 10/20/50) centers randomly\n",
    "# theta(n) = (Mu[1..t],Pi[1..t]), n: #loops\n",
    "NPixel = Dim1[1]*Dim1[2]\n",
    "t = NCluster[NCluster_choose]\n",
    "x = FlatImage*10\n",
    "# use KMeans to get initial points\n",
    "Kmeans <- kmeans(x, t)\n",
    "Mu <- Kmeans$centers\n",
    "# randomly get initial points\n",
    "# sampleRows = sample(1:NPixel, t)\n",
    "# Mu = x[sampleRows,]\n",
    "Pi = rep(1/t, t)\n",
    "w = matrix(0, NPixel, t)"
   ]
  },
  {
   "cell_type": "markdown",
   "metadata": {},
   "source": [
    "## E-Step\n",
    "### Compute weights $w_{ij}$ linking the $i$’th data item to the $j$’th cluster center, using\n",
    "$\\LARGE w_{ij}^{(n)} = \\frac{[exp(-0.5(x_i-\\mu_j^{(n)})^T(x_i-\\mu_j^{(n)}))]\\pi_j^{(n)}}{\\sum_{k}^{}[exp(-0.5(x_i-\\mu_k^{(n)})^T(x_i-\\mu_k^{(n)}))]\\pi_k^{(n)}}$\n",
    "## M-Step\n",
    "### Estimate new $\\mu$ and $\\pi$\n",
    "$\\LARGE \\mu_j^{(n+1)} = \\frac{\\sum_{i}^{}x_i w_{ij}^{(n)}}{\\sum_{i}^{}w_{ij}^{(n)}}$  \n",
    "$\\LARGE \\pi_j^{(n+1)} = \\frac{\\sum_{i}^{}w_{ij}^{(n)}}{N}$"
   ]
  },
  {
   "cell_type": "code",
   "execution_count": null,
   "metadata": {},
   "outputs": [],
   "source": [
    "# for testing\n",
    "NLoops = 0\n",
    "repeat{\n",
    "    NLoops = NLoops + 1\n",
    "    old_Pi = Pi\n",
    "    # E-Step\n",
    "    for (i in 1:NPixel){\n",
    "        sum = 0\n",
    "        for (k in 1:t)\n",
    "            sum = sum + (exp(-0.5*t(x[i,]-Mu[k,])%*%(x[i,]-Mu[k,])))*Pi[k]\n",
    "        for (j in 1:t)\n",
    "            w[i,j] = ((exp(-0.5*t(x[i,]-Mu[j,])%*%(x[i,]-Mu[j,]))*Pi[j])/sum)\n",
    "    }\n",
    "    # M-Step\n",
    "    for (j in 1:t){\n",
    "        sum2 = 0\n",
    "        for (i in 1:NPixel){\n",
    "            sum2 = sum2 + x[i,]*w[i,j]\n",
    "        }\n",
    "        Mu[j,] = sum2/sum(w[,j])\n",
    "        Pi[j] = sum(w[,j])/NPixel\n",
    "    }\n",
    "    print(NLoops)\n",
    "    print(mean(Pi-old_Pi))\n",
    "    # check if terminate\n",
    "    if (abs(mean(Pi-old_Pi)) < 0.00000001) break\n",
    "}"
   ]
  },
  {
   "cell_type": "code",
   "execution_count": null,
   "metadata": {},
   "outputs": [],
   "source": [
    "# assign each segment to the Mu with biggest possibility\n",
    "x_segmented = x\n",
    "for (i in 1:NPixel){\n",
    "    x_segmented[i,] = Mu[which.max(w[i,]),]\n",
    "}"
   ]
  },
  {
   "cell_type": "code",
   "execution_count": null,
   "metadata": {},
   "outputs": [],
   "source": [
    "# Reshape the image back to 3d\n",
    "dim(x_segmented) = c(Dim1[1],Dim1[2],Dim1[3])\n",
    "writeJPEG(x_segmented/10, target = \"output.jpg\")"
   ]
  }
 ],
 "metadata": {
  "kernelspec": {
   "display_name": "R",
   "language": "R",
   "name": "ir"
  },
  "language_info": {
   "codemirror_mode": "r",
   "file_extension": ".r",
   "mimetype": "text/x-r-source",
   "name": "R",
   "pygments_lexer": "r",
   "version": "3.5.1"
  }
 },
 "nbformat": 4,
 "nbformat_minor": 2
}
