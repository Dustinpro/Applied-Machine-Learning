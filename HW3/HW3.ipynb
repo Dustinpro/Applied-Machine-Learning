{
 "cells": [
  {
   "cell_type": "code",
   "execution_count": 1,
   "metadata": {
    "collapsed": true
   },
   "outputs": [
    {
     "name": "stderr",
     "output_type": "stream",
     "text": [
      "Loading required package: caret\n",
      "Loading required package: lattice\n",
      "Loading required package: ggplot2\n",
      "Loading required package: gsubfn\n",
      "Loading required package: proto\n",
      "Warning message in doTryCatch(return(expr), name, parentenv, handler):\n",
      "“unable to load shared object '/Library/Frameworks/R.framework/Resources/modules//R_X11.so':\n",
      "  dlopen(/Library/Frameworks/R.framework/Resources/modules//R_X11.so, 6): Library not loaded: /opt/X11/lib/libSM.6.dylib\n",
      "  Referenced from: /Library/Frameworks/R.framework/Resources/modules//R_X11.so\n",
      "  Reason: image not found”Could not load tcltk.  Will use slower R code instead.\n",
      "Loading required package: hmeasure\n",
      "Loading required package: parallel\n",
      "\n",
      "Attaching package: ‘fscaret’\n",
      "\n",
      "The following object is masked from ‘package:caret’:\n",
      "\n",
      "    RMSE\n",
      "\n",
      "Loading required package: foreach\n",
      "Loading required package: iterators\n"
     ]
    }
   ],
   "source": [
    "# import necessary libraries\n",
    "library(fscaret) # for mse\n",
    "library(doParallel)\n",
    "# accelerate using parallel computing\n",
    "registerDoParallel(makeCluster(detectCores()))"
   ]
  },
  {
   "cell_type": "code",
   "execution_count": 2,
   "metadata": {},
   "outputs": [],
   "source": [
    "# INPUT: 150rows, 4cols\n",
    "dataIN1 <- as.matrix(read.csv('hw3-data/dataI.csv'))\n",
    "dataIN2 <- as.matrix(read.csv('hw3-data/dataII.csv'))\n",
    "dataIN3 <- as.matrix(read.csv('hw3-data/dataIII.csv'))\n",
    "dataIN4 <- as.matrix(read.csv('hw3-data/dataIV.csv'))\n",
    "dataIN5 <- as.matrix(read.csv('hw3-data/dataV.csv'))\n",
    "dataIN6 <- as.matrix(read.csv('hw3-data/iris.csv'))\n",
    "dataIN <- list(dataIN1, dataIN2, dataIN3, dataIN4, dataIN5, dataIN6)\n",
    "mean <- dataIN\n",
    "dataIN_noiseless <- dataIN\n",
    "restructed <- list(dataIN, dataIN, dataIN, dataIN, dataIN, dataIN, dataIN, dataIN)"
   ]
  },
  {
   "cell_type": "code",
   "execution_count": 3,
   "metadata": {},
   "outputs": [],
   "source": [
    "# calculate the mean and center the data\n",
    "for (i in 1:length(dataIN)){\n",
    "    for (j in 1:4){\n",
    "        mean[[i]][,j] <- mean(dataIN[[i]][,j])\n",
    "        dataIN[[i]][,j] <- dataIN[[i]][,j] - mean[[i]][,j]\n",
    "    }\n",
    "}\n",
    "# center the noisy dataset using the noiseless mean\n",
    "for (i in 1:5){\n",
    "    for (j in 1:4){\n",
    "        dataIN_noiseless[[i]][,j] <- dataIN_noiseless[[i]][,j] - mean[[6]][,j]\n",
    "    }\n",
    "}"
   ]
  },
  {
   "cell_type": "code",
   "execution_count": 4,
   "metadata": {},
   "outputs": [],
   "source": [
    "# calculate the covariance matrix\n",
    "covtmp <- matrix(0,4,4)\n",
    "cov <- list(covtmp, covtmp, covtmp, covtmp, covtmp, covtmp)\n",
    "loadings <- cov\n",
    "for (i in 1:length(dataIN)){\n",
    "    for (j in 1:4){\n",
    "        for (k in 1:4){\n",
    "            cov[[i]][j,k] <- cov(dataIN[[i]][,j],dataIN[[i]][,k])\n",
    "        }\n",
    "    }\n",
    "}"
   ]
  },
  {
   "cell_type": "code",
   "execution_count": 5,
   "metadata": {},
   "outputs": [],
   "source": [
    "# calculate the eigenvectors of covariance matrix\n",
    "for (i in 1:length(dataIN)){\n",
    "    loadings[[i]] <- eigen(cov[[i]])$vectors\n",
    "}"
   ]
  },
  {
   "cell_type": "code",
   "execution_count": 6,
   "metadata": {},
   "outputs": [],
   "source": [
    "# calculate MSE when for different number of principal components & different datasets\n",
    "error <- matrix(0.0,8,5)\n",
    "# loop the number of principal components (pc = 0 will be in the next code cell)\n",
    "for (pc in 1:4){\n",
    "    # loop the noisy datasets\n",
    "    for (i in 1:5){\n",
    "        # restructed[[1:4]] stores restruction from noiseless mean & pcs, [[5:8]] from respective noisy\n",
    "        restructed[[pc]][[i]] <- dataIN_noiseless[[i]] %*% loadings[[6]][,1:pc] %*% t(loadings[[6]][,1:pc])\n",
    "        restructed[[pc+4]][[i]] <- dataIN[[i]] %*% loadings[[i]][,1:pc] %*% t(loadings[[i]][,1:pc])\n",
    "        for (k in 1:4){\n",
    "            restructed[[pc]][[i]][,k] <- restructed[[pc]][[i]][,k] + mean[[6]][,k]\n",
    "            restructed[[pc+4]][[i]][,k] <- restructed[[pc+4]][[i]][,k] + mean[[i]][,k]\n",
    "        }\n",
    "        error[pc,i] <- MSE(restructed[[pc]][[i]], dataIN6, 600)*4\n",
    "        error[pc+4,i] <- MSE(restructed[[pc+4]][[i]], dataIN6, 600)*4\n",
    "    }\n",
    "}\n",
    "error <- t(error)"
   ]
  },
  {
   "cell_type": "code",
   "execution_count": 7,
   "metadata": {},
   "outputs": [],
   "source": [
    "# calculate MSE for 0N 0c situations (PCs = 0)\n",
    "error_pc0 <- matrix(0.0,2,5)\n",
    "for (j in 1:5){\n",
    "    error_pc0[1,j] <- MSE(mean[[6]], dataIN6, 600)*4\n",
    "    error_pc0[2,j] <- MSE(mean[[j]], dataIN6, 600)*4\n",
    "}"
   ]
  },
  {
   "cell_type": "code",
   "execution_count": 8,
   "metadata": {},
   "outputs": [],
   "source": [
    "# produce the final 5*10 table\n",
    "finalTable <- cbind(as.matrix(error_pc0[1,]),error[,1:4],as.matrix(error_pc0[2,]),error[,5:8])\n",
    "colnames(finalTable) = c(\"0N\", \"1N\", \"2N\", \"3N\", \"4N\", \"0c\", \"1c\", \"2c\", \"3c\", \"4c\")\n",
    "write.csv(finalTable, file = \"chaox2-numbers.csv\", row.names = F)"
   ]
  },
  {
   "cell_type": "code",
   "execution_count": 9,
   "metadata": {},
   "outputs": [],
   "source": [
    "# reconstruction of dataset II, expanded onto 2 pcs, where mean and pcs are computed from the dataset of version II\n",
    "requiredRestruction <- restructed[[2+4]][[2]]\n",
    "colnames(requiredRestruction) = c(\"Sepal.Length\",\"Sepal.Width\",\"Petal.Length\",\"Petal.Width\")\n",
    "write.csv(requiredRestruction, file = \"chaox2-recon.csv\", row.names = F)"
   ]
  }
 ],
 "metadata": {
  "kernelspec": {
   "display_name": "R",
   "language": "R",
   "name": "ir"
  },
  "language_info": {
   "codemirror_mode": "r",
   "file_extension": ".r",
   "mimetype": "text/x-r-source",
   "name": "R",
   "pygments_lexer": "r",
   "version": "3.5.1"
  }
 },
 "nbformat": 4,
 "nbformat_minor": 2
}
